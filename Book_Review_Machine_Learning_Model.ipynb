{
  "cells": [
    {
      "cell_type": "markdown",
      "metadata": {
        "id": "view-in-github",
        "colab_type": "text"
      },
      "source": [
        "<a href=\"https://colab.research.google.com/github/wagiham/Book_Review_Machine_Learning_Model/blob/main/Book_Review_Machine_Learning_Model.ipynb\" target=\"_parent\"><img src=\"https://colab.research.google.com/assets/colab-badge.svg\" alt=\"Open In Colab\"/></a>"
      ]
    },
    {
      "cell_type": "markdown",
      "metadata": {
        "id": "YVM6ZOY3SJsr"
      },
      "source": [
        "This project executes the following tasks:\n",
        "\n",
        "1. Load your data set and save it to a Pandas DataFrame.\n",
        "2. Perform exploratory data analysis on your data to determine which feature engineering and data preparation techniques you will use.\n",
        "3. Prepare your data for your model and create features and a label.\n",
        "4. Fit your model to the training data and evaluate your model.\n",
        "5. Improve your model by performing model selection and/or feature selection techniques to find best model for your problem."
      ]
    },
    {
      "cell_type": "markdown",
      "metadata": {
        "id": "dqpxdL4nSJsr"
      },
      "source": [
        "### Import Packages\n",
        "\n",
        "Before you get started, import a few packages."
      ]
    },
    {
      "cell_type": "code",
      "execution_count": null,
      "metadata": {
        "id": "hH6ii0fBSJsr"
      },
      "outputs": [],
      "source": [
        "import pandas as pd\n",
        "import numpy as np\n",
        "import os\n",
        "import matplotlib.pyplot as plt\n",
        "import seaborn as sns"
      ]
    },
    {
      "cell_type": "code",
      "execution_count": null,
      "metadata": {
        "id": "jxOz-O4dSJss"
      },
      "outputs": [],
      "source": [
        "from sklearn.model_selection import train_test_split\n",
        "from sklearn.linear_model import LogisticRegression\n",
        "from sklearn.metrics import accuracy_score, classification_report, confusion_matrix\n",
        "from sklearn.feature_extraction.text import TfidfVectorizer\n",
        "from sklearn.metrics import plot_roc_curve\n",
        "from sklearn.metrics import accuracy_score\n",
        "from sklearn.metrics import roc_auc_score\n",
        "from sklearn.model_selection import train_test_split, GridSearchCV\n",
        "from sklearn.pipeline import Pipeline"
      ]
    },
    {
      "cell_type": "markdown",
      "metadata": {
        "id": "6u6ZZtxjSJss"
      },
      "source": [
        "## Part 1: Load the Data Set\n"
      ]
    },
    {
      "cell_type": "code",
      "execution_count": null,
      "metadata": {
        "id": "E4qF4YTKSJss",
        "outputId": "0c68d5e4-3b00-4e0b-edc6-16e08653696f"
      },
      "outputs": [
        {
          "data": {
            "text/html": [
              "<div>\n",
              "<style scoped>\n",
              "    .dataframe tbody tr th:only-of-type {\n",
              "        vertical-align: middle;\n",
              "    }\n",
              "\n",
              "    .dataframe tbody tr th {\n",
              "        vertical-align: top;\n",
              "    }\n",
              "\n",
              "    .dataframe thead th {\n",
              "        text-align: right;\n",
              "    }\n",
              "</style>\n",
              "<table border=\"1\" class=\"dataframe\">\n",
              "  <thead>\n",
              "    <tr style=\"text-align: right;\">\n",
              "      <th></th>\n",
              "      <th>Review</th>\n",
              "      <th>Positive Review</th>\n",
              "    </tr>\n",
              "  </thead>\n",
              "  <tbody>\n",
              "    <tr>\n",
              "      <th>0</th>\n",
              "      <td>This was perhaps the best of Johannes Steinhof...</td>\n",
              "      <td>True</td>\n",
              "    </tr>\n",
              "    <tr>\n",
              "      <th>1</th>\n",
              "      <td>This very fascinating book is a story written ...</td>\n",
              "      <td>True</td>\n",
              "    </tr>\n",
              "    <tr>\n",
              "      <th>2</th>\n",
              "      <td>The four tales in this collection are beautifu...</td>\n",
              "      <td>True</td>\n",
              "    </tr>\n",
              "    <tr>\n",
              "      <th>3</th>\n",
              "      <td>The book contained more profanity than I expec...</td>\n",
              "      <td>False</td>\n",
              "    </tr>\n",
              "    <tr>\n",
              "      <th>4</th>\n",
              "      <td>We have now entered a second time of deep conc...</td>\n",
              "      <td>True</td>\n",
              "    </tr>\n",
              "  </tbody>\n",
              "</table>\n",
              "</div>"
            ],
            "text/plain": [
              "                                              Review  Positive Review\n",
              "0  This was perhaps the best of Johannes Steinhof...             True\n",
              "1  This very fascinating book is a story written ...             True\n",
              "2  The four tales in this collection are beautifu...             True\n",
              "3  The book contained more profanity than I expec...            False\n",
              "4  We have now entered a second time of deep conc...             True"
            ]
          },
          "execution_count": 46,
          "metadata": {},
          "output_type": "execute_result"
        }
      ],
      "source": [
        "\n",
        "bookReviewsDataSet_filename = os.path.join(os.getcwd(), \"data\", \"bookReviewsData.csv\")\n",
        "df = pd.read_csv(bookReviewsDataSet_filename)\n",
        "df.head()"
      ]
    },
    {
      "cell_type": "markdown",
      "metadata": {
        "id": "QsjI81mFSJss"
      },
      "source": [
        "## Part 2: Exploratory Data Analysis\n",
        "\n"
      ]
    },
    {
      "cell_type": "code",
      "execution_count": null,
      "metadata": {
        "id": "ybM0lETbSJst",
        "outputId": "cee2150d-8486-41d0-ae9a-e332a8488ea7"
      },
      "outputs": [
        {
          "data": {
            "text/plain": [
              "(1973,)"
            ]
          },
          "execution_count": 52,
          "metadata": {},
          "output_type": "execute_result"
        }
      ],
      "source": [
        "X = df[\"Review\"]\n",
        "y = df[\"Positive Review\"]"
      ]
    },
    {
      "cell_type": "code",
      "execution_count": null,
      "metadata": {
        "id": "akwr8uF0SJst"
      },
      "outputs": [],
      "source": [
        "X_train, X_test, y_train, y_test = train_test_split(X, y, test_size=0.33, random_state=1234)\n"
      ]
    },
    {
      "cell_type": "code",
      "execution_count": null,
      "metadata": {
        "id": "hBuepqx8SJst"
      },
      "outputs": [],
      "source": [
        "# 1. Create a TfidfVectorizer object and save it to the variable 'tfidf_vectorizer'\n",
        "tfidf_vectorizer = TfidfVectorizer()\n",
        "\n",
        "# 2. Fit the vectorizer to X_train\n",
        "tfidf_vectorizer.fit(X_train)\n",
        "\n",
        "# 3. Using the fitted vectorizer, transform the training data and save the data to\n",
        "# variable 'X_train_tfidf'\n",
        "X_train_tfidf = tfidf_vectorizer.transform(X_train)\n",
        "\n",
        "\n",
        "# 4. Using the fitted vectorizer, transform the test data and save the data to\n",
        "# variable 'X_test_tfidf'\n",
        "X_test_tfidf = tfidf_vectorizer.transform(X_test)\n"
      ]
    },
    {
      "cell_type": "code",
      "execution_count": null,
      "metadata": {
        "id": "jJa4foBaSJst",
        "outputId": "ecc2034f-0d82-4d9c-eb9a-1dc2e24c5412"
      },
      "outputs": [
        {
          "name": "stdout",
          "output_type": "stream",
          "text": [
            "  (0, 17309)\t0.06028743272754012\n",
            "  (0, 17089)\t0.0892691494634941\n",
            "  (0, 17014)\t0.035941301331842215\n",
            "  (0, 16971)\t0.03477274619138932\n",
            "  (0, 16922)\t0.1140561164843457\n",
            "  (0, 16883)\t0.09477966855228216\n",
            "  (0, 16843)\t0.0281967561879993\n",
            "  (0, 16544)\t0.051990510293616315\n",
            "  (0, 16181)\t0.12058036759076858\n",
            "  (0, 16131)\t0.12058036759076858\n",
            "  (0, 16074)\t0.07012781027231944\n",
            "  (0, 15783)\t0.047908936812493585\n",
            "  (0, 15744)\t0.07378361844070709\n",
            "  (0, 15714)\t0.04083722935957416\n",
            "  (0, 15632)\t0.13161447260622863\n",
            "  (0, 15616)\t0.049870239428908364\n",
            "  (0, 15604)\t0.07803545910542738\n",
            "  (0, 15568)\t0.048174906224872256\n",
            "  (0, 15563)\t0.04656022874406431\n",
            "  (0, 15557)\t0.043680528087570884\n",
            "  (0, 15549)\t0.03445058789319525\n",
            "  (0, 15546)\t0.023697386877388812\n",
            "  (0, 15337)\t0.056246187337193235\n",
            "  (0, 14870)\t0.10942708665672643\n",
            "  (0, 14850)\t0.053786884853802334\n",
            "  :\t:\n",
            "  (650, 1021)\t0.02679353610356293\n",
            "  (650, 919)\t0.13036518885860382\n",
            "  (650, 895)\t0.039801168111753625\n",
            "  (650, 778)\t0.01998438447312484\n",
            "  (650, 659)\t0.05962522543123661\n",
            "  (650, 518)\t0.05566679581583946\n",
            "  (650, 477)\t0.04467389842213377\n",
            "  (650, 451)\t0.06920075606292232\n",
            "  (650, 447)\t0.05118052475214338\n",
            "  (650, 280)\t0.054885363780836874\n",
            "  (651, 16607)\t0.1439721997483263\n",
            "  (651, 16223)\t0.22804812561173957\n",
            "  (651, 15744)\t0.07216631958958658\n",
            "  (651, 14447)\t0.3539149322466549\n",
            "  (651, 12636)\t0.12303736209603117\n",
            "  (651, 11576)\t0.3492496630454682\n",
            "  (651, 11078)\t0.3928848901253298\n",
            "  (651, 10638)\t0.10434235819943441\n",
            "  (651, 8117)\t0.3179978064807098\n",
            "  (651, 6341)\t0.2897936082192914\n",
            "  (651, 5058)\t0.23645423733357362\n",
            "  (651, 3118)\t0.3408435513236341\n",
            "  (651, 2368)\t0.10406725655675858\n",
            "  (651, 2310)\t0.32679614579983685\n",
            "  (651, 919)\t0.14010470735103395\n"
          ]
        }
      ],
      "source": [
        "print(X_test_tfidf)"
      ]
    },
    {
      "cell_type": "code",
      "execution_count": null,
      "metadata": {
        "id": "1XjOaX0KSJst",
        "outputId": "2f4b7f1e-1e38-4a2b-9804-3ffb1682dd82"
      },
      "outputs": [
        {
          "name": "stdout",
          "output_type": "stream",
          "text": [
            "[ True  True False False  True False False False  True  True  True False\n",
            "  True  True  True  True False  True  True False False  True False  True\n",
            " False False  True  True False False False False False  True  True False\n",
            "  True False  True  True  True  True False  True False False False  True\n",
            "  True False False False False False False False  True  True False False\n",
            "  True  True False  True False  True  True False False False  True False\n",
            " False  True  True False False  True False False  True  True False  True\n",
            " False  True False False False False False False False  True False False\n",
            " False  True  True False  True  True  True False  True  True  True  True\n",
            "  True  True  True False  True  True False False  True  True False  True\n",
            " False  True False False  True False False  True  True  True  True False\n",
            "  True  True  True  True  True  True  True False False  True  True  True\n",
            "  True  True  True  True False False  True False  True  True False  True\n",
            " False  True  True False  True  True False False False  True  True False\n",
            " False  True  True False False False  True False  True False False False\n",
            " False False False False  True False False False  True  True False  True\n",
            "  True False  True  True  True  True False False False False  True  True\n",
            " False False  True  True  True  True False  True  True False False  True\n",
            " False  True  True  True False  True  True  True  True False False  True\n",
            "  True  True  True False  True False  True False False  True False  True\n",
            " False False  True False  True  True False False False False  True  True\n",
            " False False  True False False  True  True False False  True False False\n",
            " False  True  True False False False False False  True False False  True\n",
            "  True  True False  True False False  True  True False False  True False\n",
            " False  True  True  True  True  True  True  True False  True  True  True\n",
            "  True False  True  True False  True False False  True False False False\n",
            " False  True False  True False False  True  True False  True False  True\n",
            "  True False  True False False False False  True  True  True False  True\n",
            "  True  True  True  True  True False  True  True False False  True False\n",
            " False  True False  True False False  True  True  True False False  True\n",
            " False  True False False False  True  True False False False  True False\n",
            " False  True  True False False False False  True  True False False  True\n",
            "  True False  True  True False False  True  True False  True  True False\n",
            "  True  True  True  True  True False  True False  True False False  True\n",
            "  True False  True  True  True False  True False  True  True False False\n",
            "  True False  True  True False  True  True False False  True False False\n",
            "  True  True  True  True False  True  True  True False  True False  True\n",
            "  True  True  True  True  True False  True  True  True False False False\n",
            "  True  True False  True  True False False False False  True False False\n",
            " False False False False False  True False False False False False False\n",
            " False False  True  True False False False  True  True False False False\n",
            "  True  True False False False False  True  True False False False False\n",
            "  True False False  True  True False  True  True  True False False False\n",
            "  True False  True False  True False  True False False  True  True False\n",
            " False  True  True False  True False False False  True  True  True  True\n",
            " False False  True  True False False  True  True False False False False\n",
            " False False  True False  True False False False False False False  True\n",
            "  True False  True  True  True  True  True False  True  True  True False\n",
            " False  True  True  True False  True False False False False False False\n",
            " False  True False False  True False False False  True False  True False\n",
            " False  True False  True False  True  True False False False  True  True\n",
            " False False  True  True  True  True  True  True False  True False False\n",
            " False  True  True False  True False False False  True False False  True\n",
            "  True False  True False False  True False  True  True False  True False\n",
            " False  True False  True]\n",
            "Accuracy: 0.8190184049079755\n",
            "The size of the feature space: 17365\n"
          ]
        }
      ],
      "source": [
        "# 1. Create the LogisticRegression model object\n",
        "model = LogisticRegression(max_iter=200)\n",
        "\n",
        "\n",
        "# 2. Fit the model to the transformed training data\n",
        "model.fit(X_train_tfidf, y_train)\n",
        "\n",
        "\n",
        "# 3. Use the predict_proba() method to make predictions on the test data\n",
        "probability_predictions = model.predict_proba(X_test_tfidf)[:,1]\n",
        "class_label_predictions = model.predict(X_test_tfidf)\n",
        "\n",
        "# 4. Compute the area under the ROC curve for the test data.\n",
        "#auc = roc_auc_score(y_test, probability_predictions)\n",
        "#print('AUC on the test data: {:.4f}'.format(auc))\n",
        "print(class_label_predictions)\n",
        "acc_score = accuracy_score(y_test, class_label_predictions)\n",
        "print('Accuracy: ' + str(acc_score))\n",
        "\n",
        "\n",
        "# 5. Compute the size of the resulting feature space\n",
        "len_feature_space = len(tfidf_vectorizer.vocabulary_)\n",
        "print('The size of the feature space: {0}'.format(len_feature_space))"
      ]
    },
    {
      "cell_type": "code",
      "execution_count": null,
      "metadata": {
        "id": "Ox3v50gBSJst",
        "outputId": "d3fe183a-81da-4031-f31d-0b5f5ff857d3"
      },
      "outputs": [
        {
          "name": "stdout",
          "output_type": "stream",
          "text": [
            "[[-0.05375529 -0.12880118  0.04215157 ...  0.08351275 -0.04106144\n",
            "   0.02086352]]\n",
            "17365\n"
          ]
        }
      ],
      "source": [
        "print (model.coef_)\n",
        "print (len(model.coef_[0]))"
      ]
    },
    {
      "cell_type": "code",
      "execution_count": null,
      "metadata": {
        "id": "JUR64CEwSJsu",
        "outputId": "cb66e3ff-92ee-4a31-c1e8-1259fb657dfd"
      },
      "outputs": [
        {
          "name": "stdout",
          "output_type": "stream",
          "text": [
            "Begin ML pipeline...\n",
            "End pipeline\n"
          ]
        }
      ],
      "source": [
        "from sklearn.pipeline import Pipeline\n",
        "\n",
        "print('Begin ML pipeline...')\n",
        "\n",
        "# 1. Define the list of steps:\n",
        "s = [\n",
        "        (\"vectorizer\", TfidfVectorizer(ngram_range=(1,2), min_df=10)),\n",
        "        (\"model\", LogisticRegression(max_iter=200))\n",
        "    ]\n",
        "\n",
        "# 2. Define the pipeline:\n",
        "model_pipeline = Pipeline(steps=s)\n",
        "\n",
        "# We can use the pipeline the way would would use a model object\n",
        "# when fitting the model on the training data and testing on the test data:\n",
        "\n",
        "# 3. Fit the pipeline to the training data\n",
        "model_pipeline.fit(X_train, y_train)\n",
        "\n",
        "# 4. Make predictions on the test data\n",
        "# Save the second column to the variable 'probability_predictions'\n",
        "probability_predictions = model_pipeline.predict_proba(X_test)[:, 1]\n",
        "\n",
        "print('End pipeline')"
      ]
    },
    {
      "cell_type": "code",
      "execution_count": null,
      "metadata": {
        "id": "88e_HJlaSJsu",
        "outputId": "60ad5b5e-816c-449b-83bb-ef8fb253b47f"
      },
      "outputs": [
        {
          "name": "stdout",
          "output_type": "stream",
          "text": [
            "[0.55845971 0.63017217 0.46727637 0.46577486 0.66113708 0.43587718\n",
            " 0.40253233 0.29099764 0.72277909 0.56066767 0.58434248 0.49437267\n",
            " 0.59550052 0.63028549 0.48367009 0.56113853 0.27589076 0.49008695\n",
            " 0.55760389 0.43597842 0.4096893  0.61249798 0.35718516 0.68233904\n",
            " 0.39431672 0.27441248 0.59842127 0.58744192 0.2922814  0.28189664\n",
            " 0.30602304 0.38397224 0.46701161 0.5125365  0.56969184 0.33443398\n",
            " 0.5793335  0.28456725 0.74329445 0.69826182 0.52875955 0.78333521\n",
            " 0.34222432 0.59677295 0.31285942 0.29262753 0.38180688 0.83759983\n",
            " 0.67581555 0.5169727  0.37963373 0.33338927 0.33493958 0.35568416\n",
            " 0.15866199 0.28545092 0.62669598 0.58242402 0.35926231 0.34085014\n",
            " 0.73703566 0.75311702 0.33892721 0.5888426  0.27485842 0.70186833\n",
            " 0.57599815 0.2961402  0.26008922 0.50284151 0.39433515 0.38218793\n",
            " 0.3981519  0.50853984 0.60573516 0.34303889 0.30291002 0.71457027\n",
            " 0.32086871 0.24499757 0.53410795 0.66186457 0.45331916 0.81654234\n",
            " 0.40644735 0.67048772 0.29164239 0.30248031 0.43544327 0.23189823\n",
            " 0.35490739 0.33947985 0.17281276 0.52557414 0.33558771 0.29837814\n",
            " 0.46272872 0.82633659 0.57554732 0.38433234 0.60324889 0.64127081\n",
            " 0.78374058 0.39728256 0.57313471 0.54445533 0.67290526 0.6844178\n",
            " 0.47503957 0.50178352 0.73705152 0.33939057 0.72724597 0.5678895\n",
            " 0.37736961 0.47989262 0.80084927 0.79567034 0.45117994 0.56904362\n",
            " 0.31889602 0.55314789 0.37112778 0.43422656 0.81056942 0.37344506\n",
            " 0.48965112 0.51683564 0.75605037 0.78825823 0.60127661 0.43652234\n",
            " 0.52832368 0.70605884 0.50767178 0.5501081  0.62681586 0.65477145\n",
            " 0.6017132  0.26960436 0.48038175 0.62339524 0.77791998 0.56089505\n",
            " 0.65808647 0.80414139 0.57373028 0.81641938 0.44673849 0.31253826\n",
            " 0.78783495 0.38159146 0.5793335  0.74472969 0.48511591 0.53930519\n",
            " 0.34347678 0.55618871 0.63766316 0.48457924 0.53211869 0.57378476\n",
            " 0.33197865 0.43708672 0.2244694  0.63936279 0.86215285 0.32539592\n",
            " 0.41611029 0.70640007 0.68878251 0.37491134 0.40586687 0.38163903\n",
            " 0.53967047 0.22128931 0.69097339 0.24931294 0.24712718 0.47933976\n",
            " 0.32787785 0.29358465 0.36466365 0.2175397  0.73277182 0.43180352\n",
            " 0.43976796 0.20547083 0.61684693 0.56360872 0.44287397 0.56079414\n",
            " 0.77165204 0.36382627 0.56007541 0.6163047  0.65144143 0.52557414\n",
            " 0.37615993 0.45595453 0.31290493 0.37245189 0.57016351 0.56289764\n",
            " 0.32438508 0.53378223 0.70170809 0.64506271 0.78558082 0.60961272\n",
            " 0.45961206 0.58950336 0.59147341 0.24228192 0.18752621 0.62653584\n",
            " 0.51102602 0.72477084 0.49013272 0.51260419 0.30614764 0.77609449\n",
            " 0.69186086 0.64107849 0.73280286 0.46838803 0.49860892 0.68844894\n",
            " 0.67639149 0.65120643 0.53394328 0.28758913 0.5082715  0.21539935\n",
            " 0.53960721 0.33385507 0.20741752 0.54191637 0.31349865 0.62637578\n",
            " 0.35880695 0.51542751 0.5827046  0.34837816 0.83330688 0.50942622\n",
            " 0.30258332 0.41205299 0.31916295 0.37420453 0.74038357 0.53813731\n",
            " 0.41133468 0.29187463 0.64366536 0.42814197 0.28029769 0.76996351\n",
            " 0.50090167 0.23916224 0.48549783 0.73628925 0.35260282 0.14585935\n",
            " 0.29430661 0.57646725 0.70652918 0.46767973 0.1958515  0.51549575\n",
            " 0.31902308 0.47389453 0.71447126 0.34994185 0.4022515  0.78917817\n",
            " 0.70254482 0.72873309 0.30096887 0.53974675 0.27898087 0.44310288\n",
            " 0.77784068 0.61883016 0.37679792 0.35578209 0.43966283 0.21473067\n",
            " 0.49318561 0.48853354 0.50767178 0.57022391 0.49641136 0.51005335\n",
            " 0.54964883 0.77670579 0.43327959 0.62808814 0.70864074 0.54945939\n",
            " 0.60007452 0.28973304 0.55232167 0.54582596 0.23501874 0.59917205\n",
            " 0.25700946 0.24151994 0.54547362 0.37314901 0.31851623 0.34543679\n",
            " 0.41978019 0.65265008 0.46244289 0.72060396 0.47620685 0.39372087\n",
            " 0.81248128 0.65055378 0.29828952 0.44573634 0.47321164 0.44805873\n",
            " 0.74797725 0.25240302 0.671276   0.47502302 0.39847851 0.20470968\n",
            " 0.4130965  0.49471968 0.68845131 0.57757944 0.43616332 0.74507576\n",
            " 0.75940951 0.7577395  0.53669802 0.66503076 0.70187497 0.35973617\n",
            " 0.61152292 0.59822488 0.56903545 0.48525525 0.59258341 0.47253645\n",
            " 0.55588494 0.81843464 0.47746974 0.59283261 0.52152453 0.17372106\n",
            " 0.53932012 0.57599815 0.55772946 0.37220556 0.49823164 0.7120529\n",
            " 0.27226627 0.6174865  0.44509603 0.22922325 0.28530469 0.6012199\n",
            " 0.7024207  0.30371384 0.46963747 0.46303454 0.62780692 0.28593101\n",
            " 0.16278952 0.50622605 0.64879684 0.4479476  0.35490845 0.41673423\n",
            " 0.40548188 0.55151742 0.67174565 0.27968456 0.46943523 0.47787861\n",
            " 0.72486875 0.28636191 0.59507921 0.51757391 0.43647199 0.37339154\n",
            " 0.71265733 0.50312775 0.22795042 0.74280457 0.50840109 0.39789792\n",
            " 0.67360554 0.58663154 0.75836413 0.53920775 0.6501948  0.1231922\n",
            " 0.57975197 0.38493249 0.63623109 0.39906153 0.33493533 0.6112801\n",
            " 0.56887463 0.45409062 0.62121078 0.56926473 0.54354866 0.45382047\n",
            " 0.75460277 0.35926231 0.52058756 0.59205779 0.35860909 0.36001671\n",
            " 0.69202335 0.39119007 0.69339883 0.6018305  0.55003647 0.68125901\n",
            " 0.53781132 0.23500124 0.22927347 0.55390038 0.49416265 0.33137788\n",
            " 0.68911227 0.64365237 0.55945078 0.52649647 0.31465437 0.59302088\n",
            " 0.62089797 0.54949719 0.25340603 0.6454958  0.3489977  0.58194776\n",
            " 0.68035305 0.6762533  0.65465084 0.64300284 0.62118975 0.25558877\n",
            " 0.67628297 0.75308358 0.61335343 0.33614299 0.37242022 0.42959935\n",
            " 0.5073658  0.58772298 0.24054762 0.79042187 0.64527292 0.45940838\n",
            " 0.37241425 0.37777371 0.47017813 0.63144215 0.36424769 0.45972972\n",
            " 0.19880541 0.19876703 0.49206551 0.49154395 0.4343688  0.56096802\n",
            " 0.29036243 0.47413097 0.3522862  0.36669546 0.4615376  0.29305887\n",
            " 0.27058834 0.44125282 0.67375074 0.55848105 0.30609171 0.50884684\n",
            " 0.24712718 0.49195005 0.54927999 0.49345647 0.17951873 0.48515706\n",
            " 0.59866949 0.59409195 0.52899282 0.43125107 0.18580083 0.30619219\n",
            " 0.53115557 0.60023855 0.40723689 0.49154395 0.32713909 0.41384355\n",
            " 0.55630866 0.3499141  0.43074326 0.73347468 0.66746338 0.49314183\n",
            " 0.78704394 0.70946684 0.60655949 0.25215999 0.1793615  0.48974669\n",
            " 0.63664675 0.35957431 0.69928034 0.2607363  0.57063203 0.21991694\n",
            " 0.61659309 0.45251405 0.2616948  0.6893642  0.56518959 0.39158315\n",
            " 0.29553533 0.76011846 0.63859243 0.41953331 0.69037254 0.29506694\n",
            " 0.15838325 0.38944481 0.53365982 0.68969246 0.49488573 0.59170158\n",
            " 0.34642548 0.33968942 0.50640603 0.6772972  0.31768238 0.27651162\n",
            " 0.66049364 0.58931525 0.49626546 0.30292596 0.52515261 0.42075671\n",
            " 0.33980328 0.27794705 0.52883068 0.18205078 0.74273166 0.37944626\n",
            " 0.50382111 0.15221738 0.35909559 0.3582938  0.30444417 0.57752397\n",
            " 0.58182023 0.41089553 0.75973111 0.50088037 0.52171565 0.6071551\n",
            " 0.58672095 0.35309207 0.58353765 0.56457444 0.56992634 0.30747937\n",
            " 0.29813885 0.52887254 0.58289164 0.62584411 0.51085747 0.78871386\n",
            " 0.49303135 0.43358724 0.53055639 0.58085192 0.42073714 0.33911378\n",
            " 0.24001949 0.56268523 0.36037446 0.38984576 0.56727305 0.25972698\n",
            " 0.51938647 0.29283358 0.5270276  0.46464529 0.62486802 0.33319135\n",
            " 0.3914018  0.5200098  0.42824731 0.68002636 0.24588163 0.55204606\n",
            " 0.79623049 0.41079561 0.2645472  0.3907628  0.66165615 0.66934556\n",
            " 0.45247148 0.54793878 0.63461318 0.64771375 0.5714161  0.64387935\n",
            " 0.75625507 0.76087323 0.29210771 0.65831598 0.53019955 0.18222865\n",
            " 0.38549209 0.54067086 0.67810167 0.29636546 0.54372675 0.51650508\n",
            " 0.47110768 0.46575861 0.6779679  0.36379411 0.42271978 0.51936228\n",
            " 0.6356597  0.18752621 0.62143549 0.43232432 0.32666253 0.56543609\n",
            " 0.32539592 0.50335402 0.72384064 0.26431918 0.70533601 0.41780207\n",
            " 0.13007455 0.61764555 0.29200998 0.72920893]\n",
            "AUC on the test data: 0.9176\n"
          ]
        }
      ],
      "source": [
        "# Evaluate the performance by computing the AUC\n",
        "print(probability_predictions)\n",
        "#auc_score = auc(y_test, probability_predictions)\n",
        "#fpr, tpr, thresholds = sklearn.metrics.roc_curve(y, pred, pos_label=2)\n",
        "auc_score = roc_auc_score(y_test, probability_predictions)\n",
        "\n",
        "\n",
        "print('AUC on the test data: {:.4f}'.format(auc_score))"
      ]
    },
    {
      "cell_type": "code",
      "execution_count": null,
      "metadata": {
        "id": "z_Uzto2ySJsu",
        "outputId": "6f005ffd-4b62-4f4b-9682-2454c440473f"
      },
      "outputs": [
        {
          "data": {
            "text/plain": [
              "<sklearn.metrics._plot.roc_curve.RocCurveDisplay at 0x7f7c9fe49cf8>"
            ]
          },
          "execution_count": 76,
          "metadata": {},
          "output_type": "execute_result"
        },
        {
          "data": {
            "image/png": "[encoded data removed]",
            "text/plain": [
              "<Figure size 432x288 with 1 Axes>"
            ]
          },
          "metadata": {
            "needs_background": "light"
          },
          "output_type": "display_data"
        }
      ],
      "source": [
        "from sklearn.metrics import plot_roc_curve\n",
        "\n",
        "plot_roc_curve(model_pipeline, X_test, y_test)"
      ]
    },
    {
      "cell_type": "code",
      "execution_count": null,
      "metadata": {
        "id": "EzmVyp-1SJsu",
        "outputId": "2d5da42a-8f2e-45e1-bf9e-63dcd54f940f"
      },
      "outputs": [
        {
          "data": {
            "text/plain": [
              "dict_keys(['memory', 'steps', 'verbose', 'vectorizer', 'model', 'vectorizer__analyzer', 'vectorizer__binary', 'vectorizer__decode_error', 'vectorizer__dtype', 'vectorizer__encoding', 'vectorizer__input', 'vectorizer__lowercase', 'vectorizer__max_df', 'vectorizer__max_features', 'vectorizer__min_df', 'vectorizer__ngram_range', 'vectorizer__norm', 'vectorizer__preprocessor', 'vectorizer__smooth_idf', 'vectorizer__stop_words', 'vectorizer__strip_accents', 'vectorizer__sublinear_tf', 'vectorizer__token_pattern', 'vectorizer__tokenizer', 'vectorizer__use_idf', 'vectorizer__vocabulary', 'model__C', 'model__class_weight', 'model__dual', 'model__fit_intercept', 'model__intercept_scaling', 'model__l1_ratio', 'model__max_iter', 'model__multi_class', 'model__n_jobs', 'model__penalty', 'model__random_state', 'model__solver', 'model__tol', 'model__verbose', 'model__warm_start'])"
            ]
          },
          "execution_count": 77,
          "metadata": {},
          "output_type": "execute_result"
        }
      ],
      "source": [
        "#Perform a GridSearchCV on the Pipeline to Find the Best Hyperparameters\n",
        "\n",
        "model_pipeline.get_params().keys()\n"
      ]
    },
    {
      "cell_type": "code",
      "execution_count": null,
      "metadata": {
        "id": "kzEvn1S9SJsu",
        "outputId": "c3482b67-c53a-45be-ae50-5d616a0687f6"
      },
      "outputs": [
        {
          "data": {
            "text/plain": [
              "{'model__C': [0.1, 1, 10], 'vectorizer__ngram_range': [(1, 1), (1, 2)]}"
            ]
          },
          "execution_count": 85,
          "metadata": {},
          "output_type": "execute_result"
        }
      ],
      "source": [
        "param_grid = {\n",
        "    'model__C': [0.1, 1, 10],\n",
        "    'vectorizer__ngram_range': [(1, 1), (1, 2)]\n",
        "}\n",
        "\n",
        "\n",
        "param_grid"
      ]
    },
    {
      "cell_type": "code",
      "execution_count": null,
      "metadata": {
        "id": "q_ZnoAoXSJsu",
        "outputId": "9a6dbf6f-eff6-4c99-edc1-b3500b8480f5"
      },
      "outputs": [
        {
          "name": "stdout",
          "output_type": "stream",
          "text": [
            "Running Grid Search...\n",
            "Fitting 3 folds for each of 6 candidates, totalling 18 fits\n",
            "[CV] model__C=0.1, vectorizer__ngram_range=(1, 1) ....................\n"
          ]
        },
        {
          "name": "stderr",
          "output_type": "stream",
          "text": [
            "[Parallel(n_jobs=1)]: Using backend SequentialBackend with 1 concurrent workers.\n"
          ]
        },
        {
          "name": "stdout",
          "output_type": "stream",
          "text": [
            "[CV] ..... model__C=0.1, vectorizer__ngram_range=(1, 1), total=   0.3s\n",
            "[CV] model__C=0.1, vectorizer__ngram_range=(1, 1) ....................\n"
          ]
        },
        {
          "name": "stderr",
          "output_type": "stream",
          "text": [
            "[Parallel(n_jobs=1)]: Done   1 out of   1 | elapsed:    0.3s remaining:    0.0s\n"
          ]
        },
        {
          "name": "stdout",
          "output_type": "stream",
          "text": [
            "[CV] ..... model__C=0.1, vectorizer__ngram_range=(1, 1), total=   0.3s\n",
            "[CV] model__C=0.1, vectorizer__ngram_range=(1, 1) ....................\n",
            "[CV] ..... model__C=0.1, vectorizer__ngram_range=(1, 1), total=   0.3s\n",
            "[CV] model__C=0.1, vectorizer__ngram_range=(1, 2) ....................\n",
            "[CV] ..... model__C=0.1, vectorizer__ngram_range=(1, 2), total=   0.8s\n",
            "[CV] model__C=0.1, vectorizer__ngram_range=(1, 2) ....................\n",
            "[CV] ..... model__C=0.1, vectorizer__ngram_range=(1, 2), total=   0.8s\n",
            "[CV] model__C=0.1, vectorizer__ngram_range=(1, 2) ....................\n",
            "[CV] ..... model__C=0.1, vectorizer__ngram_range=(1, 2), total=   0.7s\n",
            "[CV] model__C=1, vectorizer__ngram_range=(1, 1) ......................\n",
            "[CV] ....... model__C=1, vectorizer__ngram_range=(1, 1), total=   0.3s\n",
            "[CV] model__C=1, vectorizer__ngram_range=(1, 1) ......................\n",
            "[CV] ....... model__C=1, vectorizer__ngram_range=(1, 1), total=   0.3s\n",
            "[CV] model__C=1, vectorizer__ngram_range=(1, 1) ......................\n",
            "[CV] ....... model__C=1, vectorizer__ngram_range=(1, 1), total=   0.3s\n",
            "[CV] model__C=1, vectorizer__ngram_range=(1, 2) ......................\n",
            "[CV] ....... model__C=1, vectorizer__ngram_range=(1, 2), total=   0.9s\n",
            "[CV] model__C=1, vectorizer__ngram_range=(1, 2) ......................\n",
            "[CV] ....... model__C=1, vectorizer__ngram_range=(1, 2), total=   0.8s\n",
            "[CV] model__C=1, vectorizer__ngram_range=(1, 2) ......................\n",
            "[CV] ....... model__C=1, vectorizer__ngram_range=(1, 2), total=   0.7s\n",
            "[CV] model__C=10, vectorizer__ngram_range=(1, 1) .....................\n",
            "[CV] ...... model__C=10, vectorizer__ngram_range=(1, 1), total=   0.3s\n",
            "[CV] model__C=10, vectorizer__ngram_range=(1, 1) .....................\n",
            "[CV] ...... model__C=10, vectorizer__ngram_range=(1, 1), total=   0.3s\n",
            "[CV] model__C=10, vectorizer__ngram_range=(1, 1) .....................\n",
            "[CV] ...... model__C=10, vectorizer__ngram_range=(1, 1), total=   0.3s\n",
            "[CV] model__C=10, vectorizer__ngram_range=(1, 2) .....................\n",
            "[CV] ...... model__C=10, vectorizer__ngram_range=(1, 2), total=   0.9s\n",
            "[CV] model__C=10, vectorizer__ngram_range=(1, 2) .....................\n",
            "[CV] ...... model__C=10, vectorizer__ngram_range=(1, 2), total=   1.0s\n",
            "[CV] model__C=10, vectorizer__ngram_range=(1, 2) .....................\n",
            "[CV] ...... model__C=10, vectorizer__ngram_range=(1, 2), total=   1.0s\n"
          ]
        },
        {
          "name": "stderr",
          "output_type": "stream",
          "text": [
            "[Parallel(n_jobs=1)]: Done  18 out of  18 | elapsed:   10.3s finished\n"
          ]
        },
        {
          "name": "stdout",
          "output_type": "stream",
          "text": [
            "Done\n"
          ]
        }
      ],
      "source": [
        "print('Running Grid Search...')\n",
        "\n",
        "# 1. Run a Grid Search with 3-fold cross-validation and assign the output to the\n",
        "# object 'grid_LR'.\n",
        "\n",
        "grid = GridSearchCV(estimator=model_pipeline, param_grid=param_grid, cv=3, scoring='roc_auc', verbose=2)\n",
        "\n",
        "\n",
        "# 2. Fit the model (grid_LR) on the training data and assign the fitted model to the\n",
        "# variable 'grid_search_LR'\n",
        "\n",
        "grid_search_LR = grid.fit(X_train, y_train)\n",
        "\n",
        "\n",
        "print('Done')"
      ]
    },
    {
      "cell_type": "code",
      "execution_count": null,
      "metadata": {
        "id": "IGqvBz5NSJsu",
        "outputId": "c33b9f6d-a5eb-4b36-d11d-a89d2e9be8b2"
      },
      "outputs": [
        {
          "data": {
            "text/plain": [
              "Pipeline(memory=None,\n",
              "         steps=[('vectorizer',\n",
              "                 TfidfVectorizer(analyzer='word', binary=False,\n",
              "                                 decode_error='strict',\n",
              "                                 dtype=<class 'numpy.float64'>,\n",
              "                                 encoding='utf-8', input='content',\n",
              "                                 lowercase=True, max_df=1.0, max_features=None,\n",
              "                                 min_df=10, ngram_range=(1, 2), norm='l2',\n",
              "                                 preprocessor=None, smooth_idf=True,\n",
              "                                 stop_words=None, strip_accents=None,\n",
              "                                 sublinear_tf=False,\n",
              "                                 token_pattern='(?u)\\\\b\\\\w\\\\w+\\\\b',\n",
              "                                 tokenizer=None, use_idf=True,\n",
              "                                 vocabulary=None)),\n",
              "                ('model',\n",
              "                 LogisticRegression(C=10, class_weight=None, dual=False,\n",
              "                                    fit_intercept=True, intercept_scaling=1,\n",
              "                                    l1_ratio=None, max_iter=200,\n",
              "                                    multi_class='auto', n_jobs=None,\n",
              "                                    penalty='l2', random_state=None,\n",
              "                                    solver='lbfgs', tol=0.0001, verbose=0,\n",
              "                                    warm_start=False))],\n",
              "         verbose=False)"
            ]
          },
          "execution_count": 87,
          "metadata": {},
          "output_type": "execute_result"
        }
      ],
      "source": [
        "grid_search_LR.best_estimator_\n",
        "#best_estimator = grid.best_estimator_"
      ]
    },
    {
      "cell_type": "code",
      "execution_count": null,
      "metadata": {
        "id": "BQwquXGwSJsv",
        "outputId": "000bbc66-cc63-4cb0-a3b3-34053b14bf80"
      },
      "outputs": [
        {
          "name": "stdout",
          "output_type": "stream",
          "text": [
            "{'model__C': 10, 'vectorizer__ngram_range': (1, 2)}\n"
          ]
        }
      ],
      "source": [
        "best_hyperparameters = grid_search_LR.best_params_\n",
        "print(best_hyperparameters)"
      ]
    },
    {
      "cell_type": "code",
      "execution_count": null,
      "metadata": {
        "id": "xU27chWESJsv",
        "outputId": "79a19c53-04c8-4f9f-f4ea-fe0d454423fa"
      },
      "outputs": [
        {
          "data": {
            "image/png": "[encoded data removed]",
            "text/plain": [
              "<Figure size 432x288 with 1 Axes>"
            ]
          },
          "metadata": {
            "needs_background": "light"
          },
          "output_type": "display_data"
        }
      ],
      "source": [
        "plot_roc_curve(grid.best_estimator_, X_test, y_test)\n",
        "plt.show()"
      ]
    },
    {
      "cell_type": "markdown",
      "metadata": {
        "id": "o92WxD3iSJsv"
      },
      "source": [
        "## Part 3:  Project Plan\n"
      ]
    },
    {
      "cell_type": "code",
      "execution_count": null,
      "metadata": {
        "id": "Vqg46DRXSJsv"
      },
      "outputs": [],
      "source": [
        "\n",
        "For the model, I chose to use Logistic Regression because we are using categorical values and then to use TD-IDF to transform the words into binary values. To improve the model, I used grid search to create the best hyparameters. The accuracy score of an 0.81 means that the model is doing a good job at predicting whether the reviews are positive or not by labelling them as true or false. The AUC is 0.91 meaning that  that the model is doing a good job at differentiating between positive and negative classes."
      ]
    }
  ],
  "metadata": {
    "kernelspec": {
      "display_name": "Python 3",
      "language": "python",
      "name": "python3"
    },
    "language_info": {
      "codemirror_mode": {
        "name": "ipython",
        "version": 3
      },
      "file_extension": ".py",
      "mimetype": "text/x-python",
      "name": "python",
      "nbconvert_exporter": "python",
      "pygments_lexer": "ipython3",
      "version": "3.6.9"
    },
    "toc": {
      "base_numbering": 1,
      "nav_menu": {},
      "number_sections": false,
      "sideBar": true,
      "skip_h1_title": false,
      "title_cell": "Table of Contents",
      "title_sidebar": "Contents",
      "toc_cell": false,
      "toc_position": {},
      "toc_section_display": true,
      "toc_window_display": false
    },
    "varInspector": {
      "cols": {
        "lenName": 16,
        "lenType": 16,
        "lenVar": 40
      },
      "kernels_config": {
        "python": {
          "delete_cmd_postfix": "",
          "delete_cmd_prefix": "del ",
          "library": "var_list.py",
          "varRefreshCmd": "print(var_dic_list())"
        },
        "r": {
          "delete_cmd_postfix": ") ",
          "delete_cmd_prefix": "rm(",
          "library": "var_list.r",
          "varRefreshCmd": "cat(var_dic_list()) "
        }
      },
      "types_to_exclude": [
        "module",
        "function",
        "builtin_function_or_method",
        "instance",
        "_Feature"
      ],
      "window_display": false
    },
    "colab": {
      "provenance": [],
      "include_colab_link": true
    }
  },
  "nbformat": 4,
  "nbformat_minor": 0
}